{
 "cells": [
  {
   "cell_type": "code",
   "execution_count": 1,
   "id": "06a266e9-4d72-444f-b86d-fd2a3339a51d",
   "metadata": {},
   "outputs": [],
   "source": [
    "l = [4,5,8,7,5]"
   ]
  },
  {
   "cell_type": "code",
   "execution_count": 3,
   "id": "53e36c76-e195-4e53-9b90-71780e84fee1",
   "metadata": {},
   "outputs": [
    {
     "name": "stdout",
     "output_type": "stream",
     "text": [
      "4 <class 'int'>\n",
      "5 <class 'int'>\n",
      "8 <class 'int'>\n",
      "7 <class 'int'>\n",
      "5 <class 'int'>\n"
     ]
    }
   ],
   "source": [
    "for i in l :\n",
    "    print(i, type(i))"
   ]
  },
  {
   "cell_type": "code",
   "execution_count": 4,
   "id": "5dd1d87e-acc2-4b33-bf3a-cc526767e333",
   "metadata": {},
   "outputs": [],
   "source": [
    "l1 = [\"rajib\",\"khan\",\"contai\"]"
   ]
  },
  {
   "cell_type": "code",
   "execution_count": 5,
   "id": "74b6c483-e878-4717-bb03-0009f2dc7ab0",
   "metadata": {},
   "outputs": [
    {
     "name": "stdout",
     "output_type": "stream",
     "text": [
      "rajib <class 'str'>\n",
      "khan <class 'str'>\n",
      "contai <class 'str'>\n"
     ]
    }
   ],
   "source": [
    "for i in l1 :\n",
    "    print(i, type(i))"
   ]
  },
  {
   "cell_type": "code",
   "execution_count": 6,
   "id": "f7754c9a-fd9d-4c43-b290-fdcdf4542492",
   "metadata": {},
   "outputs": [
    {
     "data": {
      "text/plain": [
       "['rajib', 'khan', 'contai']"
      ]
     },
     "execution_count": 6,
     "metadata": {},
     "output_type": "execute_result"
    }
   ],
   "source": [
    "l1"
   ]
  },
  {
   "cell_type": "code",
   "execution_count": 10,
   "id": "2aaaaf9a-e206-4498-9c63-3262ac9ff639",
   "metadata": {},
   "outputs": [
    {
     "name": "stdout",
     "output_type": "stream",
     "text": [
      "rajib\n",
      "khan\n",
      "contai\n",
      "if for loop is able to complete itself then only else will execute\n"
     ]
    }
   ],
   "source": [
    "for i in l1 :\n",
    "    print(i)\n",
    "else :\n",
    "    print(\"if for loop is able to complete itself then only else will execute\")"
   ]
  },
  {
   "cell_type": "code",
   "execution_count": 11,
   "id": "1af55a04-7392-4d0f-bf90-afef2fbc323e",
   "metadata": {},
   "outputs": [
    {
     "data": {
      "text/plain": [
       "['rajib', 'khan', 'contai']"
      ]
     },
     "execution_count": 11,
     "metadata": {},
     "output_type": "execute_result"
    }
   ],
   "source": [
    "l1"
   ]
  },
  {
   "cell_type": "code",
   "execution_count": 12,
   "id": "4c07c9ce-7b8e-4435-9a35-66e80943c66d",
   "metadata": {},
   "outputs": [
    {
     "name": "stdout",
     "output_type": "stream",
     "text": [
      "rajib\n"
     ]
    }
   ],
   "source": [
    "for i in l1 :\n",
    "    if i == 'khan' :\n",
    "        break\n",
    "    print(i)"
   ]
  },
  {
   "cell_type": "code",
   "execution_count": 13,
   "id": "53218a4d-6a57-42dc-83bf-80c184bdaa39",
   "metadata": {},
   "outputs": [
    {
     "data": {
      "text/plain": [
       "['rajib', 'khan', 'contai']"
      ]
     },
     "execution_count": 13,
     "metadata": {},
     "output_type": "execute_result"
    }
   ],
   "source": [
    "l1"
   ]
  },
  {
   "cell_type": "code",
   "execution_count": 14,
   "id": "5bc3af62-3885-43a8-8f19-90483440f959",
   "metadata": {},
   "outputs": [
    {
     "name": "stdout",
     "output_type": "stream",
     "text": [
      "rajib\n"
     ]
    }
   ],
   "source": [
    "for i in l1 :\n",
    "    if i == 'khan' :\n",
    "        break\n",
    "    print(i)\n",
    "else :\n",
    "    print(\"execute this if for loop is ab;e to complete itself\")"
   ]
  },
  {
   "cell_type": "code",
   "execution_count": 15,
   "id": "fe1659a2-e8aa-401e-a7aa-094349cda18f",
   "metadata": {},
   "outputs": [
    {
     "data": {
      "text/plain": [
       "['rajib', 'khan', 'contai']"
      ]
     },
     "execution_count": 15,
     "metadata": {},
     "output_type": "execute_result"
    }
   ],
   "source": [
    "l1"
   ]
  },
  {
   "cell_type": "code",
   "execution_count": 19,
   "id": "41dde201-6bb1-4117-a344-cbca40b0b626",
   "metadata": {},
   "outputs": [
    {
     "name": "stdout",
     "output_type": "stream",
     "text": [
      "rajib\n",
      "contai\n",
      "execute this if for loop is ab;e to complete itself\n"
     ]
    }
   ],
   "source": [
    "for i in l1 :\n",
    "    if i == \"khan\" :\n",
    "        continue\n",
    "    print(i)\n",
    "else :\n",
    "    print(\"execute this if for loop is ab;e to complete itself\")"
   ]
  },
  {
   "cell_type": "code",
   "execution_count": 20,
   "id": "3fc8b840-a6e5-4bbe-8f81-1163cbd35941",
   "metadata": {},
   "outputs": [
    {
     "data": {
      "text/plain": [
       "range(0, 5)"
      ]
     },
     "execution_count": 20,
     "metadata": {},
     "output_type": "execute_result"
    }
   ],
   "source": [
    "range(5)"
   ]
  },
  {
   "cell_type": "code",
   "execution_count": 22,
   "id": "49fb71e5-dec6-45bd-b93b-e268849b633a",
   "metadata": {},
   "outputs": [
    {
     "data": {
      "text/plain": [
       "[0, 1, 2, 3, 4]"
      ]
     },
     "execution_count": 22,
     "metadata": {},
     "output_type": "execute_result"
    }
   ],
   "source": [
    "list(range(5))"
   ]
  },
  {
   "cell_type": "code",
   "execution_count": 23,
   "id": "3d408009-942f-4dd7-abcd-6d78ac50b72a",
   "metadata": {},
   "outputs": [
    {
     "data": {
      "text/plain": [
       "[0, 2, 4]"
      ]
     },
     "execution_count": 23,
     "metadata": {},
     "output_type": "execute_result"
    }
   ],
   "source": [
    "list(range(0,5,2))"
   ]
  },
  {
   "cell_type": "code",
   "execution_count": 24,
   "id": "d3985b7c-ce5c-4ca2-895d-9c3c9473c0da",
   "metadata": {},
   "outputs": [
    {
     "data": {
      "text/plain": [
       "range(0, 20, 2)"
      ]
     },
     "execution_count": 24,
     "metadata": {},
     "output_type": "execute_result"
    }
   ],
   "source": [
    "range(0,20,2)"
   ]
  },
  {
   "cell_type": "code",
   "execution_count": 25,
   "id": "874c7892-39dd-4bf1-842c-4e07d025c2b2",
   "metadata": {},
   "outputs": [
    {
     "data": {
      "text/plain": [
       "[0, 2, 4, 6, 8, 10, 12, 14, 16, 18]"
      ]
     },
     "execution_count": 25,
     "metadata": {},
     "output_type": "execute_result"
    }
   ],
   "source": [
    "list(range(0,20,2))"
   ]
  },
  {
   "cell_type": "code",
   "execution_count": 26,
   "id": "e10b2347-3884-4f24-b739-0efa49051465",
   "metadata": {},
   "outputs": [
    {
     "data": {
      "text/plain": [
       "[-10, -8, -6, -4, -2]"
      ]
     },
     "execution_count": 26,
     "metadata": {},
     "output_type": "execute_result"
    }
   ],
   "source": [
    "list(range(-10,0,2))"
   ]
  },
  {
   "cell_type": "code",
   "execution_count": 27,
   "id": "5ac9d6d7-27bf-4fa6-aaba-3a41b2db18f6",
   "metadata": {},
   "outputs": [
    {
     "data": {
      "text/plain": [
       "['rajib', 'khan', 'contai']"
      ]
     },
     "execution_count": 27,
     "metadata": {},
     "output_type": "execute_result"
    }
   ],
   "source": [
    "l1"
   ]
  },
  {
   "cell_type": "code",
   "execution_count": 28,
   "id": "79b285c3-46fa-4f55-bfa9-485dc4e71443",
   "metadata": {},
   "outputs": [
    {
     "data": {
      "text/plain": [
       "3"
      ]
     },
     "execution_count": 28,
     "metadata": {},
     "output_type": "execute_result"
    }
   ],
   "source": [
    "len(l1)"
   ]
  },
  {
   "cell_type": "code",
   "execution_count": 29,
   "id": "dfc2e42c-8b6d-4b31-a764-ab24de07ebda",
   "metadata": {},
   "outputs": [
    {
     "data": {
      "text/plain": [
       "[0, 1, 2]"
      ]
     },
     "execution_count": 29,
     "metadata": {},
     "output_type": "execute_result"
    }
   ],
   "source": [
    "list(range(len(l1)))"
   ]
  },
  {
   "cell_type": "code",
   "execution_count": 2,
   "id": "32005012-04d6-4055-9ea3-d3be0d38ceba",
   "metadata": {},
   "outputs": [],
   "source": [
    "l1 = [\"rajib\",\"khan\",\"contai\"]"
   ]
  },
  {
   "cell_type": "code",
   "execution_count": 3,
   "id": "e248a8ee-d6f9-4f9e-9a15-63793d84d89f",
   "metadata": {},
   "outputs": [
    {
     "data": {
      "text/plain": [
       "['rajib', 'khan', 'contai']"
      ]
     },
     "execution_count": 3,
     "metadata": {},
     "output_type": "execute_result"
    }
   ],
   "source": [
    "l1"
   ]
  },
  {
   "cell_type": "code",
   "execution_count": 4,
   "id": "42198773-1522-4b4c-bbbf-1d062bf54f94",
   "metadata": {},
   "outputs": [
    {
     "name": "stdout",
     "output_type": "stream",
     "text": [
      "rajib\n"
     ]
    }
   ],
   "source": [
    "for i in l1 :\n",
    "    if i == \"khan\" :\n",
    "        break\n",
    "    print(i)\n",
    "else :\n",
    "    print(\"lk\")"
   ]
  },
  {
   "cell_type": "code",
   "execution_count": 5,
   "id": "dc7df5ae-8ce7-4291-b30a-4782b39a0d67",
   "metadata": {},
   "outputs": [
    {
     "data": {
      "text/plain": [
       "['rajib', 'khan', 'contai']"
      ]
     },
     "execution_count": 5,
     "metadata": {},
     "output_type": "execute_result"
    }
   ],
   "source": [
    "l1"
   ]
  },
  {
   "cell_type": "code",
   "execution_count": 9,
   "id": "5487fa24-f1ab-4ab8-964a-a9ad0fddf6ab",
   "metadata": {},
   "outputs": [
    {
     "name": "stdout",
     "output_type": "stream",
     "text": [
      "rajib\n",
      "khan\n"
     ]
    }
   ],
   "source": [
    "for i in l1 :\n",
    "    if i == \"contai\" :\n",
    "        break\n",
    "    print(i)\n",
    "else :\n",
    "    print(\"jkll\")"
   ]
  },
  {
   "cell_type": "code",
   "execution_count": 10,
   "id": "d5ee0f53-6a43-47ab-bd17-40f4d1762ec5",
   "metadata": {},
   "outputs": [
    {
     "data": {
      "text/plain": [
       "['rajib', 'khan', 'contai']"
      ]
     },
     "execution_count": 10,
     "metadata": {},
     "output_type": "execute_result"
    }
   ],
   "source": [
    "l1"
   ]
  },
  {
   "cell_type": "code",
   "execution_count": 11,
   "id": "d1484030-7393-4300-8fea-baf0214174a4",
   "metadata": {},
   "outputs": [
    {
     "name": "stdout",
     "output_type": "stream",
     "text": [
      "rajib\n",
      "contai\n",
      "ff\n"
     ]
    }
   ],
   "source": [
    "for i in l1 :\n",
    "    if i == \"khan\" :\n",
    "        continue\n",
    "    print(i)\n",
    "else : \n",
    "    print('ff')"
   ]
  },
  {
   "cell_type": "code",
   "execution_count": 12,
   "id": "d62a99b5-062d-419a-b6e6-6c7f69bebb00",
   "metadata": {},
   "outputs": [
    {
     "data": {
      "text/plain": [
       "range(0, 5)"
      ]
     },
     "execution_count": 12,
     "metadata": {},
     "output_type": "execute_result"
    }
   ],
   "source": [
    "range(5)"
   ]
  },
  {
   "cell_type": "code",
   "execution_count": 13,
   "id": "46d0ea78-f806-4b38-8f2a-30874ad10b8d",
   "metadata": {},
   "outputs": [
    {
     "data": {
      "text/plain": [
       "[0, 1, 2, 3, 4]"
      ]
     },
     "execution_count": 13,
     "metadata": {},
     "output_type": "execute_result"
    }
   ],
   "source": [
    "list(range(0,5))"
   ]
  },
  {
   "cell_type": "code",
   "execution_count": 14,
   "id": "b6723ef7-9f2c-452c-ba55-f12cd1099a4e",
   "metadata": {},
   "outputs": [
    {
     "data": {
      "text/plain": [
       "[0, 2, 4]"
      ]
     },
     "execution_count": 14,
     "metadata": {},
     "output_type": "execute_result"
    }
   ],
   "source": [
    "list(range(0,5,2))"
   ]
  },
  {
   "cell_type": "code",
   "execution_count": 15,
   "id": "39046f12-d851-412a-a35c-217a585a5eb1",
   "metadata": {},
   "outputs": [
    {
     "data": {
      "text/plain": [
       "[0, 5, 10, 15, 20, 25, 30, 35, 40, 45]"
      ]
     },
     "execution_count": 15,
     "metadata": {},
     "output_type": "execute_result"
    }
   ],
   "source": [
    "list(range(0,50,5))"
   ]
  },
  {
   "cell_type": "code",
   "execution_count": 17,
   "id": "c09fb1d6-f3a5-4f70-9ab0-0b8213134b9a",
   "metadata": {},
   "outputs": [
    {
     "data": {
      "text/plain": [
       "[-100, -90, -80, -70, -60, -50, -40, -30, -20, -10]"
      ]
     },
     "execution_count": 17,
     "metadata": {},
     "output_type": "execute_result"
    }
   ],
   "source": [
    "list(range(-100,0,10))"
   ]
  },
  {
   "cell_type": "code",
   "execution_count": 18,
   "id": "623af70a-cbf5-44c0-b1e9-f390012be2fe",
   "metadata": {},
   "outputs": [
    {
     "data": {
      "text/plain": [
       "['rajib', 'khan', 'contai']"
      ]
     },
     "execution_count": 18,
     "metadata": {},
     "output_type": "execute_result"
    }
   ],
   "source": [
    "l1"
   ]
  },
  {
   "cell_type": "code",
   "execution_count": 20,
   "id": "f9c3af9c-ba3a-4761-8d83-4815045dcf99",
   "metadata": {},
   "outputs": [
    {
     "data": {
      "text/plain": [
       "3"
      ]
     },
     "execution_count": 20,
     "metadata": {},
     "output_type": "execute_result"
    }
   ],
   "source": [
    "len(l1)"
   ]
  },
  {
   "cell_type": "code",
   "execution_count": 22,
   "id": "d7cac83c-cf70-4a50-8b95-e375507e4f0a",
   "metadata": {},
   "outputs": [
    {
     "data": {
      "text/plain": [
       "[0, 1, 2]"
      ]
     },
     "execution_count": 22,
     "metadata": {},
     "output_type": "execute_result"
    }
   ],
   "source": [
    "list(range(len(l1)))"
   ]
  },
  {
   "cell_type": "code",
   "execution_count": 24,
   "id": "0b2cb690-e682-42a5-b638-126479445527",
   "metadata": {},
   "outputs": [
    {
     "name": "stdout",
     "output_type": "stream",
     "text": [
      "rajib\n",
      "khan\n",
      "contai\n"
     ]
    }
   ],
   "source": [
    "for i in range(len(l1)) :\n",
    "    print(l1[i])"
   ]
  },
  {
   "cell_type": "code",
   "execution_count": 25,
   "id": "49493289-6082-48a1-8210-0ab396cc9d02",
   "metadata": {},
   "outputs": [
    {
     "ename": "SyntaxError",
     "evalue": "expected ':' (1885341592.py, line 1)",
     "output_type": "error",
     "traceback": [
      "\u001b[0;36m  Cell \u001b[0;32mIn[25], line 1\u001b[0;36m\u001b[0m\n\u001b[0;31m    for i in range(len(l1),0,-1)\u001b[0m\n\u001b[0m                                ^\u001b[0m\n\u001b[0;31mSyntaxError\u001b[0m\u001b[0;31m:\u001b[0m expected ':'\n"
     ]
    }
   ],
   "source": [
    "for i in range(len(l1),0,-1) :"
   ]
  },
  {
   "cell_type": "code",
   "execution_count": 26,
   "id": "84434baa-8c82-4334-88d1-e719aa35eb98",
   "metadata": {},
   "outputs": [
    {
     "data": {
      "text/plain": [
       "['rajib', 'khan', 'contai']"
      ]
     },
     "execution_count": 26,
     "metadata": {},
     "output_type": "execute_result"
    }
   ],
   "source": [
    "l1"
   ]
  },
  {
   "cell_type": "code",
   "execution_count": 29,
   "id": "e1754640-aca0-429a-89b3-9dc37d74a5d1",
   "metadata": {},
   "outputs": [
    {
     "data": {
      "text/plain": [
       "3"
      ]
     },
     "execution_count": 29,
     "metadata": {},
     "output_type": "execute_result"
    }
   ],
   "source": [
    "len(l1)"
   ]
  },
  {
   "cell_type": "code",
   "execution_count": 30,
   "id": "61dfbf6a-053e-4b1a-86cf-daca0c3fcace",
   "metadata": {},
   "outputs": [
    {
     "data": {
      "text/plain": [
       "range(0, 3)"
      ]
     },
     "execution_count": 30,
     "metadata": {},
     "output_type": "execute_result"
    }
   ],
   "source": [
    "range(len(l1))"
   ]
  },
  {
   "cell_type": "code",
   "execution_count": 32,
   "id": "ab8e432b-643d-4909-8d84-a9690d7e0309",
   "metadata": {},
   "outputs": [
    {
     "data": {
      "text/plain": [
       "[0, 1, 2]"
      ]
     },
     "execution_count": 32,
     "metadata": {},
     "output_type": "execute_result"
    }
   ],
   "source": [
    "list(range(len(l1)))"
   ]
  },
  {
   "cell_type": "code",
   "execution_count": 33,
   "id": "25788e46-484b-402c-8217-858b582c3c13",
   "metadata": {},
   "outputs": [
    {
     "name": "stdout",
     "output_type": "stream",
     "text": [
      "contai\n",
      "khan\n",
      "rajib\n"
     ]
    }
   ],
   "source": [
    "for i in range(len(l1)-1,-1,-1) :\n",
    "    print(l1[i])"
   ]
  },
  {
   "cell_type": "code",
   "execution_count": 34,
   "id": "ca3334e5-4121-42b4-9744-5a18b4d5497a",
   "metadata": {},
   "outputs": [
    {
     "name": "stdout",
     "output_type": "stream",
     "text": [
      "khan\n",
      "rajib\n"
     ]
    }
   ],
   "source": [
    "for i in range(len(l1)-2,-1,-1) :\n",
    "    print(l1[i])"
   ]
  },
  {
   "cell_type": "code",
   "execution_count": 35,
   "id": "62811c97-c372-458c-bef8-8867531ebbdf",
   "metadata": {},
   "outputs": [],
   "source": [
    "l2 = [5,88,4,26,4,96,41,6,47,2,6,4]"
   ]
  },
  {
   "cell_type": "code",
   "execution_count": 36,
   "id": "108d39d9-6b0f-4273-9d91-ef86a129fba6",
   "metadata": {},
   "outputs": [
    {
     "data": {
      "text/plain": [
       "range(0, 12, 2)"
      ]
     },
     "execution_count": 36,
     "metadata": {},
     "output_type": "execute_result"
    }
   ],
   "source": [
    "range(0,len(l2),2)"
   ]
  },
  {
   "cell_type": "code",
   "execution_count": 37,
   "id": "cf963495-1339-4799-a9f7-c335a6d460c4",
   "metadata": {},
   "outputs": [
    {
     "data": {
      "text/plain": [
       "[0, 2, 4, 6, 8, 10]"
      ]
     },
     "execution_count": 37,
     "metadata": {},
     "output_type": "execute_result"
    }
   ],
   "source": [
    "list(range(0,len(l2),2))"
   ]
  },
  {
   "cell_type": "code",
   "execution_count": 39,
   "id": "cd1ed7e6-eb86-47d4-a721-e0928bb357fe",
   "metadata": {},
   "outputs": [
    {
     "name": "stdout",
     "output_type": "stream",
     "text": [
      "5\n",
      "4\n",
      "4\n",
      "41\n",
      "47\n",
      "6\n"
     ]
    }
   ],
   "source": [
    "for i in range(0,len(l2),2) :\n",
    "    print(l2[i])"
   ]
  },
  {
   "cell_type": "code",
   "execution_count": 40,
   "id": "afed6734-ab6c-485f-9521-2748ab212c22",
   "metadata": {},
   "outputs": [],
   "source": [
    "l3 = [5,8,94,25,46,7]"
   ]
  },
  {
   "cell_type": "code",
   "execution_count": 41,
   "id": "c8b152de-5b82-410e-8d72-dd3a14de6fbd",
   "metadata": {},
   "outputs": [
    {
     "data": {
      "text/plain": [
       "185"
      ]
     },
     "execution_count": 41,
     "metadata": {},
     "output_type": "execute_result"
    }
   ],
   "source": [
    "sum(l3)"
   ]
  },
  {
   "cell_type": "code",
   "execution_count": 42,
   "id": "b55ab0e2-b938-4d25-8bdf-7aa8689062d9",
   "metadata": {},
   "outputs": [
    {
     "data": {
      "text/plain": [
       "185"
      ]
     },
     "execution_count": 42,
     "metadata": {},
     "output_type": "execute_result"
    }
   ],
   "source": [
    "result = 0\n",
    "for i in l3 :\n",
    "    result = result+ i\n",
    "result"
   ]
  },
  {
   "cell_type": "code",
   "execution_count": 43,
   "id": "e64204e4-c84e-44e8-bb67-9f0aefc6f1da",
   "metadata": {},
   "outputs": [],
   "source": [
    "t = (1,3,5)"
   ]
  },
  {
   "cell_type": "code",
   "execution_count": 44,
   "id": "8cfb9693-0c11-4239-b5d8-7665d0e033e5",
   "metadata": {},
   "outputs": [
    {
     "name": "stdout",
     "output_type": "stream",
     "text": [
      "1\n",
      "3\n",
      "5\n"
     ]
    }
   ],
   "source": [
    "for i in t :\n",
    "    print(i)"
   ]
  },
  {
   "cell_type": "code",
   "execution_count": 45,
   "id": "7c3e8924-5b99-42a8-ab1e-9017dcbfdd15",
   "metadata": {},
   "outputs": [
    {
     "data": {
      "text/plain": [
       "9"
      ]
     },
     "execution_count": 45,
     "metadata": {},
     "output_type": "execute_result"
    }
   ],
   "source": [
    "sum(t)"
   ]
  },
  {
   "cell_type": "code",
   "execution_count": 26,
   "id": "cb2e8be5-5cea-434b-825a-9d960d1cbcc9",
   "metadata": {},
   "outputs": [],
   "source": [
    "s1 = \"pwskills\""
   ]
  },
  {
   "cell_type": "code",
   "execution_count": 24,
   "id": "34164701-e10e-4707-8c96-ee8367365089",
   "metadata": {},
   "outputs": [
    {
     "data": {
      "text/plain": [
       "{'pwskills'}"
      ]
     },
     "execution_count": 24,
     "metadata": {},
     "output_type": "execute_result"
    }
   ],
   "source": [
    "s1"
   ]
  },
  {
   "cell_type": "code",
   "execution_count": 27,
   "id": "d3eaf4e7-3656-4355-8cf6-11e34fa10a4d",
   "metadata": {},
   "outputs": [
    {
     "name": "stdout",
     "output_type": "stream",
     "text": [
      "s\n",
      "l\n",
      "l\n",
      "i\n",
      "k\n",
      "s\n",
      "w\n",
      "p\n"
     ]
    }
   ],
   "source": [
    "for i in range(len(s1)-1,-1,-1) :\n",
    "    print(s1[i])"
   ]
  },
  {
   "cell_type": "code",
   "execution_count": 1,
   "id": "35b0f649-8485-4fd6-86eb-adf7abc341ac",
   "metadata": {},
   "outputs": [],
   "source": [
    "d = {\"name\" : \"rajib\" , \"class\" : \"data science masters\" , \"tpoics\" : [\"python\",\"resume\"]}"
   ]
  },
  {
   "cell_type": "code",
   "execution_count": 2,
   "id": "e9c78ce5-bb2d-4397-9980-36f70b7e0d81",
   "metadata": {},
   "outputs": [
    {
     "data": {
      "text/plain": [
       "{'name': 'rajib',\n",
       " 'class': 'data science masters',\n",
       " 'tpoics': ['python', 'resume']}"
      ]
     },
     "execution_count": 2,
     "metadata": {},
     "output_type": "execute_result"
    }
   ],
   "source": [
    "d"
   ]
  },
  {
   "cell_type": "code",
   "execution_count": 3,
   "id": "80b65dcc-1eca-4507-8d4d-0a620ee5b359",
   "metadata": {},
   "outputs": [
    {
     "data": {
      "text/plain": [
       "'rajib'"
      ]
     },
     "execution_count": 3,
     "metadata": {},
     "output_type": "execute_result"
    }
   ],
   "source": [
    "d[\"name\"]"
   ]
  },
  {
   "cell_type": "code",
   "execution_count": 4,
   "id": "75944e85-1941-4702-9de1-7345f9f8191c",
   "metadata": {},
   "outputs": [
    {
     "data": {
      "text/plain": [
       "dict_keys(['name', 'class', 'tpoics'])"
      ]
     },
     "execution_count": 4,
     "metadata": {},
     "output_type": "execute_result"
    }
   ],
   "source": [
    "d.keys()"
   ]
  },
  {
   "cell_type": "code",
   "execution_count": 6,
   "id": "c5320f0d-57d7-42c3-85ad-c2eeef8d48e2",
   "metadata": {},
   "outputs": [
    {
     "name": "stdout",
     "output_type": "stream",
     "text": [
      "rajib\n",
      "data science masters\n",
      "['python', 'resume']\n"
     ]
    }
   ],
   "source": [
    "for i in d.keys() :\n",
    "    print(d[i])"
   ]
  },
  {
   "cell_type": "code",
   "execution_count": 7,
   "id": "4acc67ce-bfc8-4349-9a80-3adca78de220",
   "metadata": {},
   "outputs": [
    {
     "data": {
      "text/plain": [
       "dict_values(['rajib', 'data science masters', ['python', 'resume']])"
      ]
     },
     "execution_count": 7,
     "metadata": {},
     "output_type": "execute_result"
    }
   ],
   "source": [
    "d.values()"
   ]
  },
  {
   "cell_type": "code",
   "execution_count": 14,
   "id": "bb029e3d-5888-4306-aaba-cdb3992673d1",
   "metadata": {},
   "outputs": [
    {
     "name": "stdout",
     "output_type": "stream",
     "text": [
      "rajib\n",
      "data science masters\n",
      "['python', 'resume']\n"
     ]
    }
   ],
   "source": [
    "for i in d.values() :\n",
    "    print(i)"
   ]
  },
  {
   "cell_type": "code",
   "execution_count": 10,
   "id": "1344dea4-c7da-4954-8a73-5c28806336a1",
   "metadata": {},
   "outputs": [
    {
     "data": {
      "text/plain": [
       "dict_items([('name', 'rajib'), ('class', 'data science masters'), ('tpoics', ['python', 'resume'])])"
      ]
     },
     "execution_count": 10,
     "metadata": {},
     "output_type": "execute_result"
    }
   ],
   "source": [
    "d.items()"
   ]
  },
  {
   "cell_type": "code",
   "execution_count": 11,
   "id": "c688154d-ca2e-48c1-9180-39f1881a86d5",
   "metadata": {},
   "outputs": [
    {
     "name": "stdout",
     "output_type": "stream",
     "text": [
      "('name', 'rajib')\n",
      "('class', 'data science masters')\n",
      "('tpoics', ['python', 'resume'])\n"
     ]
    }
   ],
   "source": [
    "for i in d.items() :\n",
    "    print(i)"
   ]
  },
  {
   "cell_type": "code",
   "execution_count": 16,
   "id": "99749e77-66a5-477a-abd0-6fa88f6bc1da",
   "metadata": {},
   "outputs": [
    {
     "data": {
      "text/plain": [
       "{'name': 'rajib',\n",
       " 'class': 'data science masters',\n",
       " 'tpoics': ['python', 'resume']}"
      ]
     },
     "execution_count": 16,
     "metadata": {},
     "output_type": "execute_result"
    }
   ],
   "source": [
    "d"
   ]
  },
  {
   "cell_type": "code",
   "execution_count": 17,
   "id": "57585e24-bcfb-4d7c-9d1a-c7edde365f9e",
   "metadata": {},
   "outputs": [
    {
     "data": {
      "text/plain": [
       "dict_keys(['name', 'class', 'tpoics'])"
      ]
     },
     "execution_count": 17,
     "metadata": {},
     "output_type": "execute_result"
    }
   ],
   "source": [
    "d.keys()"
   ]
  },
  {
   "cell_type": "code",
   "execution_count": 18,
   "id": "a256e7d0-b1b6-4a76-a024-9bbe687583ac",
   "metadata": {},
   "outputs": [
    {
     "data": {
      "text/plain": [
       "dict_values(['rajib', 'data science masters', ['python', 'resume']])"
      ]
     },
     "execution_count": 18,
     "metadata": {},
     "output_type": "execute_result"
    }
   ],
   "source": [
    "d.values()"
   ]
  },
  {
   "cell_type": "code",
   "execution_count": 21,
   "id": "c8cc6d16-5ded-4bd8-b49c-5985493e1aab",
   "metadata": {},
   "outputs": [
    {
     "data": {
      "text/plain": [
       "dict_items([('name', 'rajib'), ('class', 'data science masters'), ('tpoics', ['python', 'resume'])])"
      ]
     },
     "execution_count": 21,
     "metadata": {},
     "output_type": "execute_result"
    }
   ],
   "source": [
    "d.items()"
   ]
  },
  {
   "cell_type": "code",
   "execution_count": 22,
   "id": "d8803577-e06b-4898-8611-b74cb5feae81",
   "metadata": {},
   "outputs": [
    {
     "name": "stdout",
     "output_type": "stream",
     "text": [
      "('name', 'rajib')\n",
      "('class', 'data science masters')\n",
      "('tpoics', ['python', 'resume'])\n"
     ]
    }
   ],
   "source": [
    "for i in d.items() :\n",
    "    print(i)"
   ]
  },
  {
   "cell_type": "code",
   "execution_count": null,
   "id": "30d040d8-bec5-4eec-882d-60fe99f00374",
   "metadata": {},
   "outputs": [],
   "source": []
  }
 ],
 "metadata": {
  "kernelspec": {
   "display_name": "Python 3 (ipykernel)",
   "language": "python",
   "name": "python3"
  },
  "language_info": {
   "codemirror_mode": {
    "name": "ipython",
    "version": 3
   },
   "file_extension": ".py",
   "mimetype": "text/x-python",
   "name": "python",
   "nbconvert_exporter": "python",
   "pygments_lexer": "ipython3",
   "version": "3.10.8"
  }
 },
 "nbformat": 4,
 "nbformat_minor": 5
}
